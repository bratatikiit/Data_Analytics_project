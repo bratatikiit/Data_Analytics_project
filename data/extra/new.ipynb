{
 "cells": [
  {
   "cell_type": "code",
   "execution_count": 3,
   "id": "fc3bfccb-b450-4c00-9ade-920d9de43935",
   "metadata": {},
   "outputs": [
    {
     "name": "stdout",
     "output_type": "stream",
     "text": [
      "Seaborn version: 0.13.2\n",
      "Plotly version: 5.22.0\n",
      "pandas version: 2.2.2\n"
     ]
    }
   ],
   "source": [
    "import seaborn as sns\n",
    "import plotly\n",
    "import pandas as pd\n",
    "print(f\"Seaborn version: {sns.__version__}\")\n",
    "print(f\"Plotly version: {plotly.__version__}\")\n",
    "print(f\"pandas version: {pd.__version__}\")"
   ]
  },
  {
   "cell_type": "code",
   "execution_count": null,
   "id": "9bbe0ae5-7280-4507-84ca-7f91ed6122a9",
   "metadata": {},
   "outputs": [],
   "source": []
  }
 ],
 "metadata": {
  "kernelspec": {
   "display_name": "Python 3 (ipykernel)",
   "language": "python",
   "name": "python3"
  },
  "language_info": {
   "codemirror_mode": {
    "name": "ipython",
    "version": 3
   },
   "file_extension": ".py",
   "mimetype": "text/x-python",
   "name": "python",
   "nbconvert_exporter": "python",
   "pygments_lexer": "ipython3",
   "version": "3.12.2"
  }
 },
 "nbformat": 4,
 "nbformat_minor": 5
}
