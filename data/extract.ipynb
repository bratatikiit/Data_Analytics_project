{
 "cells": [
  {
   "cell_type": "code",
   "execution_count": 5,
   "id": "222dbba9-82b1-4a33-8ce9-7b41aa2203ef",
   "metadata": {},
   "outputs": [
    {
     "name": "stdout",
     "output_type": "stream",
     "text": [
      "Aggregated data saved to aggregated_vaccine_data.csv\n"
     ]
    }
   ],
   "source": [
    "import pandas as pd\n",
    "\n",
    "# Read the CSV file\n",
    "df = pd.read_csv('./extract_year_manufacturer.csv')\n",
    "\n",
    "# Group by Country Name, year, and vaccine type and sum up total vaccinations\n",
    "grouped = df.groupby(['Country Name', 'Year', 'Vaccine'])['Vaccinated'].sum().reset_index()\n",
    "\n",
    "# Write the aggregated data to a new CSV file\n",
    "grouped.to_csv('aggregated_vaccine_data.csv', index=False)\n",
    "\n",
    "print(\"Aggregated data saved to aggregated_vaccine_data.csv\")\n"
   ]
  },
  {
   "cell_type": "code",
   "execution_count": null,
   "id": "a2898a43-8070-4ddf-a14d-63f401ac81a9",
   "metadata": {},
   "outputs": [],
   "source": []
  }
 ],
 "metadata": {
  "kernelspec": {
   "display_name": "Python 3 (ipykernel)",
   "language": "python",
   "name": "python3"
  },
  "language_info": {
   "codemirror_mode": {
    "name": "ipython",
    "version": 3
   },
   "file_extension": ".py",
   "mimetype": "text/x-python",
   "name": "python",
   "nbconvert_exporter": "python",
   "pygments_lexer": "ipython3",
   "version": "3.11.7"
  }
 },
 "nbformat": 4,
 "nbformat_minor": 5
}
