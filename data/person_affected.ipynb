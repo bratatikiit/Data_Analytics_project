{
 "cells": [
  {
   "cell_type": "markdown",
   "id": "0dd2645a",
   "metadata": {},
   "source": [
    "**Interactive COVID-19 Affected Country Visualization with Dash**\n",
    "This document provides  for an interactive dashboard application that visualizes data on COVID-19 affected countries.\n",
    "_This data is analysed and coded by Bratati Chakraborti\n",
    "Guidede by Professor Axel_\n",
    "\n"
   ]
  },
  {
   "cell_type": "markdown",
   "id": "de1c4d0a-61bb-4d19-89fe-a8c8400cf869",
   "metadata": {},
   "source": [
    "**Interactive Visualization of Affected Countries by Year**\n",
    "\n",
    "This script utilizes Dash and Plotly Express to create an interactive dashboard that allows users to explore the percentage of affected individuals in different countries across years.\n",
    "\n",
    "This Dash application visualizes data on countries affected by a phenomenon (here \"affected\" mean potive case) . Users can explore the data by selecting a year using the slider component.\n",
    "\n",
    "**Key Functionalities:**\n",
    "    Data Import:\n",
    "Reads data from a CSV file named affected_country.csv located in the same directory as  Python script.\n",
    "CSV file contains columns year, month, percent_affected, affected (number of people/areas affected), continent, and country.\n",
    "Interactive Exploration:\n",
    "Presents a scatter plot with the following features:\n",
    "X-axis: Month\n",
    "Y-axis: Percentage Affected\n",
    "Size: Number Affected \n",
    "Color: Continent\n",
    "Hover Text: Country name\n",
    "Logarithmic X-axis for better visualization of large variations.\n",
    "Users can dynamically filter the data by selecting a year using the slider component.\n",
    "The slider displays the minimum and maximum years present in the data.\n",
    "Each year on the slider corresponds to a unique marker in the plot.\n",
    "**Smooth Transitions:**\n",
    "Employs a transition duration of 500 milliseconds for smooth updates to the plot when the slider value changes, enhancing user experience.\n",
    "Code Structure:\n",
    "\n",
    "**Details descriptions of Libraries:**\n",
    "\n",
    "**Dash:** A framework for building web-based analytical dashboards in Python.\n",
    "dcc: Dash Core Components, offering interactive UI elements like graphs, sliders, and dropdowns.\n",
    "**html:** Dash HTML Components, for creating the basic layout of the dashboard.\n",
    "**Input:** Dash Input decorator, used to capture user interaction with UI elements.\n",
    "**Output:** Dash Output decorator, used to specify the output of callback functions.\n",
    "**callback:** Dash callback decorator, defining functions that update the app based on user interactions.\n",
    "**plotly.express:** A library for creating expressive visualizations in Python.\n",
    "pandas (not used directly in the provided code snippet): A library for data analysis and manipulation (potentially used to read CSV data or prepare the data beforehand).\n",
    "Code Explanation:\n",
    "\n",
    "\n",
    "**Data Loading:**\n",
    "\n",
    "Reads the CSV file into a pandas DataFrame (df).\n",
    "Prints summary information about the DataFrame using df.info().\n",
    "Dash Application Initialization:\n",
    "\n",
    "Creates a Dash app instance (app) using Dash(__name__).\n",
    "Sets debug=True for automatic browser reload during development.\n",
    "Sets port=8055 to customize the port on which the app runs (optional).\n",
    "Layout Definition:\n",
    "\n",
    "**Graph Component:**\n",
    "dcc.Graph(id='graph-with-slider'): This line creates a scatter plot component with the ID graph-with-slider. This component will be used to display the visualization.\n",
    "Slider Component:\n",
    "dcc.Slider(...): This creates a slider component with the ID year-slider. The slider is configured with the following properties:\n",
    "Leverages data to set minimum (df['year'].min()) and maximum (df['year'].max()) values.\n",
    "step=None: Disables step increments on the slider, allowing for smooth continuous selection.\n",
    "Sets the initial value (value=df['year'].min()) to the minimum year.\n",
    "Creates year labels on the slider track using a dictionary comprehension (marks argument). \n",
    "\n",
    "Creates an html.Div container to hold all layout elements.\n",
    "Integrates a dcc.Graph component with the ID 'graph-with-slider' for displaying the scatter plot.\n",
    "Adds a dcc.Slider component with the ID 'year-slider':\n",
    "Sets min and max values based on the year column in df.\n",
    "Sets step=None for continuous sliding without discrete steps.\n",
    "Sets value to the minimum year initially.\n",
    "Creates a dictionary marks to display year labels on the slider.\n",
    "\n",
    "   **Callback function**\n",
    "\n",
    "@callback(...): This line defines a callback function named update_figure using the @callback decorator.\n",
    "Output('graph-with-slider', 'figure'): This specifies that the callback function updates the figure property of the component with ID graph-with-slider.\n",
    "Input('year-slider', 'value'): This indicates that the callback function will be triggered whenever the value property of the component with ID year-slider changes (i.e., when the user interacts with the slider).\n",
    "def update_figure(selected_year):: This defines the callback function that takes the selected year value (selected_year) from the slider as input.\n",
    " the absolute number of affected individuals or cases.\n",
    "color=\"continent\": Uses the continent column to color the data points, allowing for visual differentiation by continent.\n",
    "hover_name=\"country\": Sets the hover name for each data point to the country column, providing additional information on mouse hover.\n",
    "log_x=True: \n",
    "Applies a logarithmic scale to the x-axis (month), potentially useful for handling\n",
    "\n"
   ]
  },
  {
   "cell_type": "code",
   "execution_count": 1,
   "id": "a22a4e6a-db15-4b5c-b478-e69e08cb11c9",
   "metadata": {
    "tags": []
   },
   "outputs": [
    {
     "name": "stdout",
     "output_type": "stream",
     "text": [
      "<class 'pandas.core.frame.DataFrame'>\n",
      "RangeIndex: 303 entries, 0 to 302\n",
      "Data columns (total 6 columns):\n",
      " #   Column            Non-Null Count  Dtype  \n",
      "---  ------            --------------  -----  \n",
      " 0   country           303 non-null    object \n",
      " 1   year              303 non-null    int64  \n",
      " 2   affected          303 non-null    int64  \n",
      " 3   continent         303 non-null    object \n",
      " 4   percent_affected  303 non-null    float64\n",
      " 5   month             303 non-null    int64  \n",
      "dtypes: float64(1), int64(3), object(2)\n",
      "memory usage: 14.3+ KB\n",
      "None\n"
     ]
    },
    {
     "data": {
      "text/html": [
       "\n",
       "        <iframe\n",
       "            width=\"100%\"\n",
       "            height=\"650\"\n",
       "            src=\"http://127.0.0.1:8055/\"\n",
       "            frameborder=\"0\"\n",
       "            allowfullscreen\n",
       "            \n",
       "        ></iframe>\n",
       "        "
      ],
      "text/plain": [
       "<IPython.lib.display.IFrame at 0x24cc21fec10>"
      ]
     },
     "metadata": {},
     "output_type": "display_data"
    }
   ],
   "source": [
    "from dash import Dash, dcc, html, Input, Output, callback\n",
    "import plotly.express as px\n",
    "\n",
    "import pandas as pd\n",
    "\n",
    "df = pd.read_csv('./affected_country.csv')\n",
    "\n",
    "app = Dash(__name__)\n",
    "print(df.info())\n",
    "\n",
    "app.layout = html.Div([\n",
    "    dcc.Graph(id='graph-with-slider'),\n",
    "    dcc.Slider(\n",
    "        df['year'].min(),\n",
    "        df['year'].max(),\n",
    "        step=None,\n",
    "        value=df['year'].min(),\n",
    "        marks={str(year): str(year) for year in df['year'].unique()},\n",
    "        id='year-slider'\n",
    "    )\n",
    "])\n",
    "\n",
    "\n",
    "@callback(\n",
    "    Output('graph-with-slider', 'figure'),\n",
    "    Input('year-slider', 'value'))\n",
    "def update_figure(selected_year):\n",
    "    filtered_df = df[df.year == selected_year]\n",
    "\n",
    "    fig = px.scatter(filtered_df, x=\"month\", y=\"percent_affected\",\n",
    "                     size=\"affected\", color=\"continent\", hover_name=\"country\",\n",
    "                     log_x=True, size_max=55)\n",
    "\n",
    "    fig.update_layout(transition_duration=500)\n",
    "\n",
    "    return fig\n",
    "\n",
    "\n",
    "if __name__ == '__main__':\n",
    "    app.run(debug=True,port=8055)"
   ]
  },
  {
   "cell_type": "markdown",
   "id": "07db87be",
   "metadata": {},
   "source": [
    "\n",
    "\n",
    "\n",
    "\n",
    "\n"
   ]
  },
  {
   "cell_type": "code",
   "execution_count": null,
   "id": "2b28a01d-b1f9-4265-b209-50224a4e6a99",
   "metadata": {},
   "outputs": [],
   "source": []
  },
  {
   "cell_type": "code",
   "execution_count": null,
   "id": "af3843b7-3897-4433-b038-0ab4a2e8120d",
   "metadata": {},
   "outputs": [],
   "source": []
  },
  {
   "cell_type": "code",
   "execution_count": null,
   "id": "b5dd268c-5221-4ebf-9769-c2ab1010b000",
   "metadata": {},
   "outputs": [],
   "source": []
  }
 ],
 "metadata": {
  "kernelspec": {
   "display_name": "Python 3 (ipykernel)",
   "language": "python",
   "name": "python3"
  },
  "language_info": {
   "codemirror_mode": {
    "name": "ipython",
    "version": 3
   },
   "file_extension": ".py",
   "mimetype": "text/x-python",
   "name": "python",
   "nbconvert_exporter": "python",
   "pygments_lexer": "ipython3",
   "version": "3.11.7"
  }
 },
 "nbformat": 4,
 "nbformat_minor": 5
}
