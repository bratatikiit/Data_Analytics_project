{
 "cells": [
  {
   "cell_type": "markdown",
   "id": "8037dc1b-a6fa-4ea7-830f-96da98757b98",
   "metadata": {},
   "source": [
    "vacccination by age is analysised and dash implemented by Bratati Chakrabori"
   ]
  },
  {
   "cell_type": "markdown",
   "id": "3d707496-36cc-4cf4-8c77-96440c2e3f6a",
   "metadata": {},
   "source": [
    "This Python code addresses a situation where a CSV file has a date column containing only \"day\" values (possibly for test data) and a vaccinated indicator. The code performs two key actions:\n",
    "\n",
    "Year Extraction: It extracts the year from the date column. Since the column holds just \"day\" values, conversion to full dates might not be necessary. However, for future compatibility or handling unexpected formats, the code attempts date conversion (with error handling) and extracts the year if successful. Missing values (NaN) are gracefully handled by replacing them with a placeholder value (e.g., -1).\n",
    "Grouping by Year: It groups the data in the DataFrame by the extracted year. This allows you to analyze trends or patterns within each year based on the other columns in the CSV file.\n",
    "Explanation:\n",
    "\n",
    "The code assumes you have pandas (import pandas as pd) installed. It then:\n",
    "\n",
    "Loads the CSV data into a DataFrame.\n",
    "Extracts the year from the date column (handling potential errors and missing values).\n",
    "Groups the DataFrame by the extracted year.\n",
    "You can then use various pandas methods to analyze or visualize the grouped data."
   ]
  },
  {
   "cell_type": "code",
   "execution_count": 13,
   "id": "b1b1e9d2-d526-4016-9e89-6662e53acac0",
   "metadata": {
    "tags": []
   },
   "outputs": [
    {
     "name": "stdout",
     "output_type": "stream",
     "text": [
      "Requirement already satisfied: kaleido in c:\\users\\admin\\anaconda3\\lib\\site-packages (0.2.1)\n",
      "Requirement already satisfied: dash in c:\\users\\admin\\anaconda3\\lib\\site-packages (2.17.0)\n",
      "Requirement already satisfied: pandas in c:\\users\\admin\\anaconda3\\lib\\site-packages (2.2.2)\n",
      "Requirement already satisfied: seaborn in c:\\users\\admin\\anaconda3\\lib\\site-packages (0.13.2)\n",
      "Requirement already satisfied: Flask<3.1,>=1.0.4 in c:\\users\\admin\\anaconda3\\lib\\site-packages (from dash) (2.2.5)\n",
      "Requirement already satisfied: Werkzeug<3.1 in c:\\users\\admin\\anaconda3\\lib\\site-packages (from dash) (2.2.3)\n",
      "Requirement already satisfied: plotly>=5.0.0 in c:\\users\\admin\\anaconda3\\lib\\site-packages (from dash) (5.22.0)\n",
      "Requirement already satisfied: dash-html-components==2.0.0 in c:\\users\\admin\\anaconda3\\lib\\site-packages (from dash) (2.0.0)\n",
      "Requirement already satisfied: dash-core-components==2.0.0 in c:\\users\\admin\\anaconda3\\lib\\site-packages (from dash) (2.0.0)\n",
      "Requirement already satisfied: dash-table==5.0.0 in c:\\users\\admin\\anaconda3\\lib\\site-packages (from dash) (5.0.0)\n",
      "Requirement already satisfied: importlib-metadata in c:\\users\\admin\\anaconda3\\lib\\site-packages (from dash) (7.0.1)\n",
      "Requirement already satisfied: typing-extensions>=4.1.1 in c:\\users\\admin\\anaconda3\\lib\\site-packages (from dash) (4.9.0)\n",
      "Requirement already satisfied: requests in c:\\users\\admin\\anaconda3\\lib\\site-packages (from dash) (2.31.0)\n",
      "Requirement already satisfied: retrying in c:\\users\\admin\\anaconda3\\lib\\site-packages (from dash) (1.3.3)\n",
      "Requirement already satisfied: nest-asyncio in c:\\users\\admin\\anaconda3\\lib\\site-packages (from dash) (1.6.0)\n",
      "Requirement already satisfied: setuptools in c:\\users\\admin\\anaconda3\\lib\\site-packages (from dash) (68.2.2)\n",
      "Requirement already satisfied: numpy>=1.23.2 in c:\\users\\admin\\anaconda3\\lib\\site-packages (from pandas) (1.26.4)\n",
      "Requirement already satisfied: python-dateutil>=2.8.2 in c:\\users\\admin\\anaconda3\\lib\\site-packages (from pandas) (2.8.2)\n",
      "Requirement already satisfied: pytz>=2020.1 in c:\\users\\admin\\anaconda3\\lib\\site-packages (from pandas) (2023.3.post1)\n",
      "Requirement already satisfied: tzdata>=2022.7 in c:\\users\\admin\\anaconda3\\lib\\site-packages (from pandas) (2023.3)\n",
      "Requirement already satisfied: matplotlib!=3.6.1,>=3.4 in c:\\users\\admin\\anaconda3\\lib\\site-packages (from seaborn) (3.8.2)\n",
      "Requirement already satisfied: Jinja2>=3.0 in c:\\users\\admin\\anaconda3\\lib\\site-packages (from Flask<3.1,>=1.0.4->dash) (3.1.3)\n",
      "Requirement already satisfied: itsdangerous>=2.0 in c:\\users\\admin\\anaconda3\\lib\\site-packages (from Flask<3.1,>=1.0.4->dash) (2.0.1)\n",
      "Requirement already satisfied: click>=8.0 in c:\\users\\admin\\anaconda3\\lib\\site-packages (from Flask<3.1,>=1.0.4->dash) (8.1.7)\n",
      "Requirement already satisfied: contourpy>=1.0.1 in c:\\users\\admin\\anaconda3\\lib\\site-packages (from matplotlib!=3.6.1,>=3.4->seaborn) (1.2.0)\n",
      "Requirement already satisfied: cycler>=0.10 in c:\\users\\admin\\anaconda3\\lib\\site-packages (from matplotlib!=3.6.1,>=3.4->seaborn) (0.11.0)\n",
      "Requirement already satisfied: fonttools>=4.22.0 in c:\\users\\admin\\anaconda3\\lib\\site-packages (from matplotlib!=3.6.1,>=3.4->seaborn) (4.25.0)\n",
      "Requirement already satisfied: kiwisolver>=1.3.1 in c:\\users\\admin\\anaconda3\\lib\\site-packages (from matplotlib!=3.6.1,>=3.4->seaborn) (1.4.4)\n",
      "Requirement already satisfied: packaging>=20.0 in c:\\users\\admin\\anaconda3\\lib\\site-packages (from matplotlib!=3.6.1,>=3.4->seaborn) (23.1)\n",
      "Requirement already satisfied: pillow>=8 in c:\\users\\admin\\anaconda3\\lib\\site-packages (from matplotlib!=3.6.1,>=3.4->seaborn) (10.2.0)\n",
      "Requirement already satisfied: pyparsing>=2.3.1 in c:\\users\\admin\\anaconda3\\lib\\site-packages (from matplotlib!=3.6.1,>=3.4->seaborn) (3.0.9)\n",
      "Requirement already satisfied: tenacity>=6.2.0 in c:\\users\\admin\\anaconda3\\lib\\site-packages (from plotly>=5.0.0->dash) (8.2.2)\n",
      "Requirement already satisfied: six>=1.5 in c:\\users\\admin\\anaconda3\\lib\\site-packages (from python-dateutil>=2.8.2->pandas) (1.16.0)\n",
      "Requirement already satisfied: MarkupSafe>=2.1.1 in c:\\users\\admin\\anaconda3\\lib\\site-packages (from Werkzeug<3.1->dash) (2.1.3)\n",
      "Requirement already satisfied: zipp>=0.5 in c:\\users\\admin\\anaconda3\\lib\\site-packages (from importlib-metadata->dash) (3.17.0)\n",
      "Requirement already satisfied: charset-normalizer<4,>=2 in c:\\users\\admin\\anaconda3\\lib\\site-packages (from requests->dash) (2.0.4)\n",
      "Requirement already satisfied: idna<4,>=2.5 in c:\\users\\admin\\anaconda3\\lib\\site-packages (from requests->dash) (3.4)\n",
      "Requirement already satisfied: urllib3<3,>=1.21.1 in c:\\users\\admin\\anaconda3\\lib\\site-packages (from requests->dash) (2.0.7)\n",
      "Requirement already satisfied: certifi>=2017.4.17 in c:\\users\\admin\\anaconda3\\lib\\site-packages (from requests->dash) (2024.2.2)\n",
      "Requirement already satisfied: colorama in c:\\users\\admin\\anaconda3\\lib\\site-packages (from click>=8.0->Flask<3.1,>=1.0.4->dash) (0.4.6)\n"
     ]
    },
    {
     "data": {
      "text/html": [
       "\n",
       "        <iframe\n",
       "            width=\"100%\"\n",
       "            height=\"650\"\n",
       "            src=\"http://127.0.0.1:8050/\"\n",
       "            frameborder=\"0\"\n",
       "            allowfullscreen\n",
       "            \n",
       "        ></iframe>\n",
       "        "
      ],
      "text/plain": [
       "<IPython.lib.display.IFrame at 0x176b3ee0350>"
      ]
     },
     "metadata": {},
     "output_type": "display_data"
    }
   ],
   "source": [
    "# Install required libraries (assuming you haven't already)\n",
    "!pip install -U kaleido dash pandas seaborn\n",
    "\n",
    "# Import libraries\n",
    "import pandas as pd\n",
    "import matplotlib.pyplot as plt\n",
    "from io import BytesIO\n",
    "import base64\n",
    "from dash import Dash, dcc, html, Input, Output\n",
    "import plotly.express as px\n",
    "\n",
    "# Read data from your CSV file (replace 'vaccinations-by-age-group.csv' with the actual path)\n",
    "df = pd.read_csv('vaccinations-by-age-group.csv')  # Assuming CSV is in the same directory\n",
    "\n",
    "# Data cleaning and transformation (if needed)\n",
    "# Assuming dates are in 'DD/MM/YYYY' format, convert to datetime\n",
    "if 'date' in df.columns:  # Check if 'date' column exists\n",
    "    df['date'] = pd.to_datetime(df['date'], format='%d/%m/%Y')\n",
    "    # Extract year\n",
    "    df['year'] = df['date'].dt.year\n",
    "\n",
    "# Define visualization function (using Plotly Express)\n",
    "def create_visualization(selected_year, selected_country):\n",
    "    filtered_df = df[df['year'] == selected_year]\n",
    "    if selected_country:\n",
    "        filtered_df = filtered_df[df['location'] == selected_country]\n",
    "\n",
    "    fig = px.bar(\n",
    "        filtered_df,\n",
    "        x=\"age_group\",\n",
    "        y=[\"people_vaccinated_per_hundred\", \"people_fully_vaccinated_per_hundred\", \"people_with_booster_per_hundred\"],\n",
    "        barmode=\"group\",  # Stack bars to show cumulative values\n",
    "        title=f\"Vaccination Rates in {selected_country or 'All Countries'} ({selected_year})\"\n",
    "    )\n",
    "    fig.update_layout(legend_title_text=\"Vaccination Status\")\n",
    "    fig.update_traces(marker_line_color='black', marker_line_width=1)  # Improve bar visibility\n",
    "\n",
    "    # Convert plot to PNG for Dash usage\n",
    "    img_bytes = BytesIO()\n",
    "    fig.write_image(img_bytes, format='png')\n",
    "    img_bytes.seek(0)\n",
    "    encoded_img = base64.b64encode(img_bytes.getvalue()).decode('utf-8')\n",
    "\n",
    "    return f'data:image/png;base64,{encoded_img}'\n",
    "\n",
    "# Initialize Dash app\n",
    "app = Dash(__name__)\n",
    "\n",
    "# App layout\n",
    "app.layout = html.Div([\n",
    "    html.H1(\"Vaccination Rates by Country and Age Group\"),\n",
    "    html.Div([\n",
    "        dcc.Dropdown(\n",
    "            id=\"year-dropdown\",\n",
    "            options=[{'label': str(y), 'value': y} for y in df['year'].unique()],\n",
    "            value=df['year'].max()  # Pre-select the latest year\n",
    "        ),\n",
    "        dcc.Dropdown(\n",
    "            id=\"country-dropdown\",\n",
    "            options=[\n",
    "                {'label': c, 'value': c} for c in df['location'].unique()] # + [{'label': 'All Countries', 'value': None}],  # Allow filtering by all countries\n",
    "            #value=None\n",
    "        )\n",
    "    ]),\n",
    "    html.Div(id='graph-container'),\n",
    "])\n",
    "\n",
    "# Callback to update the graph\n",
    "@app.callback(\n",
    "    Output(component_id='graph-container', component_property='children'),\n",
    "    [Input(component_id='year-dropdown', component_property='value'),\n",
    "     Input(component_id='country-dropdown', component_property='value')]\n",
    ")\n",
    "def update_graph(selected_year, selected_country):\n",
    "    graph_image = create_visualization(selected_year, selected_country)\n",
    "    return html.Img(src=graph_image)\n",
    "\n",
    "if __name__ == '__main__':\n",
    "    app.run_server(debug=True)\n"
   ]
  },
  {
   "cell_type": "code",
   "execution_count": null,
   "id": "9b7f9bb4-ff25-4578-9e1a-ff53d72d2f81",
   "metadata": {},
   "outputs": [],
   "source": []
  },
  {
   "cell_type": "code",
   "execution_count": null,
   "id": "c0c2b9f5-4e35-4da5-bc99-1d9081fc3c58",
   "metadata": {
    "tags": []
   },
   "outputs": [],
   "source": []
  }
 ],
 "metadata": {
  "kernelspec": {
   "display_name": "Python 3 (ipykernel)",
   "language": "python",
   "name": "python3"
  },
  "language_info": {
   "codemirror_mode": {
    "name": "ipython",
    "version": 3
   },
   "file_extension": ".py",
   "mimetype": "text/x-python",
   "name": "python",
   "nbconvert_exporter": "python",
   "pygments_lexer": "ipython3",
   "version": "3.11.7"
  }
 },
 "nbformat": 4,
 "nbformat_minor": 5
}
