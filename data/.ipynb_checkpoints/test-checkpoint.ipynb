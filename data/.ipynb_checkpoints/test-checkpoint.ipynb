{
 "cells": [
  {
   "cell_type": "code",
   "execution_count": 7,
   "id": "c19abf44-1252-4e5b-8ca6-7a3feb8b4b22",
   "metadata": {
    "tags": []
   },
   "outputs": [],
   "source": [
    "import pandas as pd\n",
    "from dash import Dash, dcc, html, Input, Output\n",
    "\n",
    "# Load the CSV data into a DataFrame\n",
    "df = pd.read_csv(\"./aggregated_vaccine_data.csv\")"
   ]
  },
  {
   "cell_type": "code",
   "execution_count": 11,
   "id": "ee58adab-1c1b-4b2a-8dca-51f2dc0a5fa2",
   "metadata": {
    "tags": []
   },
   "outputs": [
    {
     "data": {
      "text/html": [
       "\n",
       "        <iframe\n",
       "            width=\"100%\"\n",
       "            height=\"650\"\n",
       "            src=\"http://127.0.0.1:8099/\"\n",
       "            frameborder=\"0\"\n",
       "            allowfullscreen\n",
       "            \n",
       "        ></iframe>\n",
       "        "
      ],
      "text/plain": [
       "<IPython.lib.display.IFrame at 0x1f86e336dd0>"
      ]
     },
     "metadata": {},
     "output_type": "display_data"
    }
   ],
   "source": [
    "\n",
    "\n",
    "# Available years for dropdown options\n",
    "years_available = [str(x) for x in df[\"Year\"].unique()]\n",
    "\n",
    "# Create a Dash app\n",
    "app = Dash(__name__)\n",
    "\n",
    "# Store previously selected years (initially empty list)\n",
    "selected_years_prev = []\n",
    "\n",
    "# App layout\n",
    "app.layout = html.Div(\n",
    "    [\n",
    "        html.H1(\"Vaccination Comparison by Country\"),\n",
    "        html.Div(\n",
    "            [\n",
    "                html.Label(\"Select Year(s):\"),\n",
    "                dcc.Dropdown(\n",
    "                    id=\"year-dropdown\",\n",
    "                    options=[{\"label\": y, \"value\": y} for y in years_available],\n",
    "                    value=years_available,  # Pre-select all years initially\n",
    "                    multi=True,\n",
    "                ),\n",
    "                html.Div(id=\"previous-selections\", style={\"font-weight\": \"bold\"}),  # Element for previous selections\n",
    "            ]\n",
    "        ),\n",
    "        dcc.Graph(id=\"vaccination-comparison-chart\"),\n",
    "    ]\n",
    ")\n",
    "\n",
    "\n",
    "@app.callback(\n",
    "    Output(\"vaccination-comparison-chart\", \"figure\"),\n",
    "    Input(\"year-dropdown\", \"value\"),\n",
    ")\n",
    "def update_graph(selected_years):\n",
    "    global selected_years_prev  # Access global variable\n",
    "\n",
    "    # Update previously selected years\n",
    "    selected_years_prev = selected_years.copy()  # Avoid modifying original list\n",
    "\n",
    "    # Filter data by selected years\n",
    "    filtered_df = df[df[\"Year\"].isin(selected_years)]\n",
    "    print(filtered_df)\n",
    "\n",
    "    # Create a new DataFrame to group data by country and year\n",
    "    vaccine_counts_by_year = (\n",
    "        filtered_df.groupby([\"Country\", \"Year\"])[\"Vaccinate\"]\n",
    "        .sum()\n",
    "        .reset_index()\n",
    "    )\n",
    "\n",
    "    # Create a line chart using Matplotlib\n",
    "    fig, ax = plt.subplots(figsize=(10, 6))\n",
    "    for country in vaccine_counts_by_year[\"Country\"].unique():\n",
    "        country_data = vaccine_counts_by_year[\n",
    "            vaccine_counts_by_year[\"Country\"] == country\n",
    "        ]\n",
    "        plt.plot(country_data[\"Year\"], country_data[\"Vaccinate\"], label=country)\n",
    "\n",
    "    plt.xlabel(\"Year\")\n",
    "    plt.ylabel(\"Number of Vaccinations\")\n",
    "    plt.title(\"Vaccination Comparison by Country\")\n",
    "    plt.legend()\n",
    "    plt.xticks(rotation=45)  # Rotate x-axis labels for readability\n",
    "\n",
    "    # Convert Matplotlib figure to Dash figure\n",
    "    fig.update_layout(margin={\"top\": 20, \"right\": 20, \"bottom\": 30, \"left\": 50})\n",
    "    return fig\n",
    "\n",
    "\n",
    "@app.callback(\n",
    "    Output(\"previous-selections\", \"children\"),\n",
    "    Input(\"year-dropdown\", \"value\"),\n",
    ")\n",
    "def update_previous_selections(selected_years):\n",
    "    if selected_years_prev:  # Check if previous selections exist\n",
    "        return f\"Previously Selected Years: {', '.join(selected_years_prev)}\"\n",
    "    else:\n",
    "        return \"\"  # No previous selections to display\n",
    "\n",
    "\n",
    "if __name__ == \"__main__\":\n",
    "    app.run_server(debug=True,port=8099)\n"
   ]
  },
  {
   "cell_type": "code",
   "execution_count": null,
   "id": "a3fd0516-33a1-485f-9747-65c784f3644c",
   "metadata": {},
   "outputs": [],
   "source": []
  }
 ],
 "metadata": {
  "kernelspec": {
   "display_name": "Python 3 (ipykernel)",
   "language": "python",
   "name": "python3"
  },
  "language_info": {
   "codemirror_mode": {
    "name": "ipython",
    "version": 3
   },
   "file_extension": ".py",
   "mimetype": "text/x-python",
   "name": "python",
   "nbconvert_exporter": "python",
   "pygments_lexer": "ipython3",
   "version": "3.11.7"
  }
 },
 "nbformat": 4,
 "nbformat_minor": 5
}
