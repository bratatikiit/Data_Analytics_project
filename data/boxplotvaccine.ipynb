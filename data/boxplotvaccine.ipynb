{
 "cells": [
  {
   "cell_type": "code",
   "execution_count": null,
   "id": "8a4d3ac2-a1a7-4795-b5e2-2ab830f5c0a8",
   "metadata": {
    "tags": []
   },
   "outputs": [],
   "source": [
    "# Import libraries\n",
    "import pandas as pd\n",
    "import matplotlib.pyplot as plt\n",
    "\n",
    "# Read the CSV data into a DataFrame\n",
    "df = pd.read_csv(\"./vaccinations-by-manufaturer.csv\")\n",
    "\n",
    "# Group data by country and year (assuming Year is numeric)\n",
    "grouped_data = df.groupby([\"Country Name\", \"Year\"])[\"total_vaccinations\"].sum()\n",
    "unstacked_data = grouped_data.unstack()  # Unstack for box plot\n",
    "\n",
    "# Create the box plot\n",
    "plt.figure(figsize=(10, 6))  # Adjust figure size as needed\n",
    "unstacked_data.plot(kind=\"box\", vert=False)  # Create box plot with horizontal boxes\n",
    "\n",
    "# Customize the plot\n",
    "plt.xlabel(\"Total Vaccinations\")\n",
    "plt.ylabel(\"vaccination_type\")\n",
    "plt.title(\"Distribution of Total Vaccinations by Country and Year (2020-2024)\")\n",
    "plt.xticks(rotation=45)  # Rotate x-axis labels for better readability\n",
    "plt.tight_layout()\n",
    "\n",
    "# Display the plot in Jupyter Lab\n",
    "plt.show()\n"
   ]
  },
  {
   "cell_type": "code",
   "execution_count": null,
   "id": "593ae129-8e9b-41df-91d3-462ef9589300",
   "metadata": {
    "tags": []
   },
   "outputs": [],
   "source": [
    "pip install dash"
   ]
  },
  {
   "cell_type": "code",
   "execution_count": null,
   "id": "1b1aa929-7f9b-44c9-a1f4-883d2357af2d",
   "metadata": {},
   "outputs": [],
   "source": []
  },
  {
   "cell_type": "code",
   "execution_count": null,
   "id": "7b9882da-08ea-444e-95a7-a26a7700b448",
   "metadata": {},
   "outputs": [],
   "source": [
    "import pandas as pd\n",
    "import matplotlib.pyplot as plt\n",
    "\n",
    "# Assuming your CSV file is named 'vaccinations.csv' and is in the same directory\n",
    "csv_file = './vaccinations-by-manufaturer.csv'\n",
    "\n",
    "# Error handling for potential CSV loading issues\n",
    "try:\n",
    "    df = pd.read_csv(csv_file)\n",
    "except FileNotFoundError:\n",
    "    print(f\"Error: CSV file '{csv_file}' not found. Please check the file path.\")\n",
    "    exit()\n",
    "\n",
    "# Extract year and vaccine columns from your data (replace with actual names if different)\n",
    "year_col = 'Year'\n",
    "vaccine_col = 'vaccine_type'\n",
    "total_vaccinations_col = 'total_vaccinations'  # Assuming a total vaccinations column\n",
    "\n",
    "# Group data by year and vaccine type, summing total vaccinations\n",
    "vaccine_totals = df.groupby([year_col, vaccine_col])[total_vaccinations_col].sum().unstack()\n",
    "\n",
    "# Create the plot (stacked bar chart)\n",
    "vaccine_totals.plot(kind=\"bar\", stacked=True, colormap=\"tab20\")\n",
    "plt.xlabel(year_col)  # Set appropriate label based on your column name\n",
    "plt.ylabel(\"Total Vaccinations\")\n",
    "plt.title(\"Total Vaccinations by Vaccine Type (2020-2024)\")  # Adjust title based on your data range\n",
    "plt.xticks(rotation=0)  # Rotate x-axis labels for better readability\n",
    "plt.legend(title=\"Vaccine Type\")\n",
    "plt.grid(axis=\"y\")  # Add grid lines for better visual reference\n",
    "\n",
    "plt.tight_layout()  # Adjust spacing to prevent overlapping elements\n",
    "plt.show()\n"
   ]
  },
  {
   "cell_type": "code",
   "execution_count": null,
   "id": "792832c8-282e-4be8-a089-7f6651ac48d7",
   "metadata": {
    "tags": []
   },
   "outputs": [],
   "source": [
    "import pandas as pd\n",
    "import matplotlib.pyplot as plt\n",
    "\n",
    "# Assuming your CSV file is named 'vaccinations.csv' and is in the same directory\n",
    "csv_file = './vaccinations-by-manufaturer.csv'\n",
    "\n",
    "# Error handling for potential CSV loading issues\n",
    "try:\n",
    "    df = pd.read_csv(csv_file)\n",
    "except FileNotFoundError:\n",
    "    print(f\"Error: CSV file '{csv_file}' not found. Please check the file path.\")\n",
    "    exit()\n",
    "\n",
    "# Extract year and vaccine columns from your data (replace with actual names if different)\n",
    "year_col = 'Year'\n",
    "vaccine_col = 'vaccine_type'\n",
    "total_vaccinations_col = 'total_vaccinations'  # Assuming a total vaccinations column\n",
    "\n",
    "# Group data by year and vaccine type\n",
    "vaccine_totals = df.groupby([year_col, vaccine_col])[total_vaccinations_col].sum().unstack()\n",
    "\n",
    "# Create the line plot\n",
    "vaccine_totals.plot(kind=\"line\", marker='o')  # Use 'o' for circle markers\n",
    "plt.xlabel(year_col)  # Set appropriate label based on your column name\n",
    "plt.ylabel(\"Total Vaccinations\")\n",
    "plt.title(\"Total Vaccinations by Vaccine Type Over Time\")  # Adjust title based on your data range\n",
    "plt.legend(title=\"Vaccine Type\")\n",
    "plt.grid(True)  # Add grid lines for better visual reference\n",
    "\n",
    "plt.tight_layout()  # Adjust spacing to prevent overlapping elements\n",
    "plt.show()\n"
   ]
  },
  {
   "cell_type": "code",
   "execution_count": null,
   "id": "c29bc02e-9ceb-4ab7-a6e5-7783d2762231",
   "metadata": {
    "tags": []
   },
   "outputs": [],
   "source": [
    "import scipy\n",
    "print(scipy.__version__)"
   ]
  },
  {
   "cell_type": "code",
   "execution_count": 5,
   "id": "d777688a-c9ab-4f9a-8836-87a917505e18",
   "metadata": {
    "tags": []
   },
   "outputs": [
    {
     "name": "stdout",
     "output_type": "stream",
     "text": [
      "Requirement already satisfied: scipy in c:\\users\\admin\\anaconda3\\lib\\site-packages (1.13.0)\n",
      "Requirement already satisfied: numpy<2.3,>=1.22.4 in c:\\users\\admin\\anaconda3\\lib\\site-packages (from scipy) (1.26.4)\n",
      "Note: you may need to restart the kernel to use updated packages.\n"
     ]
    }
   ],
   "source": [
    "pip install --upgrade scipy"
   ]
  },
  {
   "cell_type": "code",
   "execution_count": 19,
   "id": "3a61fb9f-390d-43bd-a965-b62b162f1f5b",
   "metadata": {
    "tags": []
   },
   "outputs": [
    {
     "name": "stdout",
     "output_type": "stream",
     "text": [
      "1.13.0\n",
      "C:\\Users\\admin\\anaconda3\\Lib\\site-packages\\scipy\\__init__.py\n"
     ]
    },
    {
     "ename": "ImportError",
     "evalue": "cannot import name 'boxplot_stats' from 'scipy.stats' (C:\\Users\\admin\\anaconda3\\Lib\\site-packages\\scipy\\stats\\__init__.py)",
     "output_type": "error",
     "traceback": [
      "\u001b[1;31m---------------------------------------------------------------------------\u001b[0m",
      "\u001b[1;31mImportError\u001b[0m                               Traceback (most recent call last)",
      "Cell \u001b[1;32mIn[19], line 4\u001b[0m\n\u001b[0;32m      2\u001b[0m \u001b[38;5;28;01mimport\u001b[39;00m \u001b[38;5;21;01mmatplotlib\u001b[39;00m\u001b[38;5;21;01m.\u001b[39;00m\u001b[38;5;21;01mpyplot\u001b[39;00m \u001b[38;5;28;01mas\u001b[39;00m \u001b[38;5;21;01mplt\u001b[39;00m\n\u001b[0;32m      3\u001b[0m \u001b[38;5;28;01mimport\u001b[39;00m \u001b[38;5;21;01mscipy\u001b[39;00m; \u001b[38;5;28mprint\u001b[39m(scipy\u001b[38;5;241m.\u001b[39m__version__); \u001b[38;5;28mprint\u001b[39m(scipy\u001b[38;5;241m.\u001b[39m\u001b[38;5;18m__file__\u001b[39m);\n\u001b[1;32m----> 4\u001b[0m \u001b[38;5;28;01mfrom\u001b[39;00m \u001b[38;5;21;01mscipy\u001b[39;00m\u001b[38;5;21;01m.\u001b[39;00m\u001b[38;5;21;01mstats\u001b[39;00m \u001b[38;5;28;01mimport\u001b[39;00m boxplot_stats\n\u001b[0;32m      7\u001b[0m \u001b[38;5;66;03m# Load your data into a pandas DataFrame\u001b[39;00m\n\u001b[0;32m      8\u001b[0m data \u001b[38;5;241m=\u001b[39m pd\u001b[38;5;241m.\u001b[39mread_csv(\u001b[38;5;124m'\u001b[39m\u001b[38;5;124m./vaccinations-by-manufaturer.csv\u001b[39m\u001b[38;5;124m'\u001b[39m)  \u001b[38;5;66;03m# Replace \"your_data.csv\" with your actual file path\u001b[39;00m\n",
      "\u001b[1;31mImportError\u001b[0m: cannot import name 'boxplot_stats' from 'scipy.stats' (C:\\Users\\admin\\anaconda3\\Lib\\site-packages\\scipy\\stats\\__init__.py)"
     ]
    }
   ],
   "source": [
    "import pandas as pd\n",
    "import matplotlib.pyplot as plt\n",
    "import scipy; print(scipy.__version__); print(scipy.__file__);\n",
    "from scipy.stats import boxplot_stats\n",
    "\n",
    "\n",
    "# Load your data into a pandas DataFrame\n",
    "data = pd.read_csv('./vaccinations-by-manufaturer.csv')  # Replace \"your_data.csv\" with your actual file path\n",
    "\n",
    "# Prepare data for the heap map\n",
    "vaccine_counts = data.groupby([\"Year\", \"vaccine_type\"])[\"total_vaccinations\"].sum().unstack()\n",
    "\n",
    "# Create the heatmap\n",
    "plt.figure(figsize=(10, 6))\n",
    "heatmap = plt.pcolor(vaccine_counts, cmap=\"Blues\", vmin=0)  # Adjust colormap and vmin as needed\n",
    "plt.colorbar(label=\"Total Vaccinations\")\n",
    "plt.xlabel(\"Year\")\n",
    "plt.ylabel(\"Vaccine Type\")\n",
    "plt.title(\"Total Vaccinations by Vaccine Type and Year (Heatmap)\")\n",
    "plt.xticks(range(len(vaccine_counts.columns)), vaccine_counts.columns, rotation=45)  # Rotate x-axis labels for better readability\n",
    "plt.tight_layout()\n",
    "plt.show()\n",
    "\n",
    "# Prepare data for the box plot\n",
    "data_by_year = data.groupby([\"Year\", \"vaccine_type\"])[\"total_vaccinations\"]\n",
    "\n",
    "# Calculate box plot statistics\n",
    "stats = boxplot_stats(data_by_year)\n",
    "\n",
    "# Create the box plot\n",
    "plt.figure(figsize=(10, 6))\n",
    "bp = plt.boxplot(stats[\"boxes\"], notch=True, patch_artist=True, vert=False, labels=stats[\"labels\"])\n",
    "plt.xlabel(\"Total Vaccinations\")\n",
    "plt.ylabel(\"Vaccine Type\")\n",
    "plt.title(\"Total Vaccinations Distribution by Vaccine Type and Year (Box Plot)\")\n",
    "plt.xticks(range(len(stats[\"labels\"])))  # Set x-axis tick positions\n",
    "plt.gca().set_yticklabels(stats[\"labels\"], rotation=45)  # Rotate y-axis labels for better readability\n",
    "plt.tight_layout()\n",
    "plt.show()\n"
   ]
  },
  {
   "cell_type": "code",
   "execution_count": null,
   "id": "28f06fb9-1495-4546-94a9-2ca6b78f89fc",
   "metadata": {},
   "outputs": [],
   "source": []
  }
 ],
 "metadata": {
  "kernelspec": {
   "display_name": "Python 3 (ipykernel)",
   "language": "python",
   "name": "python3"
  },
  "language_info": {
   "codemirror_mode": {
    "name": "ipython",
    "version": 3
   },
   "file_extension": ".py",
   "mimetype": "text/x-python",
   "name": "python",
   "nbconvert_exporter": "python",
   "pygments_lexer": "ipython3",
   "version": "3.11.7"
  }
 },
 "nbformat": 4,
 "nbformat_minor": 5
}
