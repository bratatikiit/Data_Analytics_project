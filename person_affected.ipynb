{
 "cells": [
  {
   "cell_type": "code",
   "execution_count": 1,
   "id": "a22a4e6a-db15-4b5c-b478-e69e08cb11c9",
   "metadata": {
    "tags": []
   },
   "outputs": [
    {
     "name": "stdout",
     "output_type": "stream",
     "text": [
      "<class 'pandas.core.frame.DataFrame'>\n",
      "RangeIndex: 303 entries, 0 to 302\n",
      "Data columns (total 6 columns):\n",
      " #   Column            Non-Null Count  Dtype  \n",
      "---  ------            --------------  -----  \n",
      " 0   country           303 non-null    object \n",
      " 1   year              303 non-null    int64  \n",
      " 2   affected          303 non-null    int64  \n",
      " 3   continent         303 non-null    object \n",
      " 4   percent_affected  303 non-null    float64\n",
      " 5   month             303 non-null    int64  \n",
      "dtypes: float64(1), int64(3), object(2)\n",
      "memory usage: 14.3+ KB\n",
      "None\n"
     ]
    },
    {
     "data": {
      "text/html": [
       "\n",
       "        <iframe\n",
       "            width=\"100%\"\n",
       "            height=\"650\"\n",
       "            src=\"http://127.0.0.1:8055/\"\n",
       "            frameborder=\"0\"\n",
       "            allowfullscreen\n",
       "            \n",
       "        ></iframe>\n",
       "        "
      ],
      "text/plain": [
       "<IPython.lib.display.IFrame at 0x1baf4114a40>"
      ]
     },
     "metadata": {},
     "output_type": "display_data"
    }
   ],
   "source": [
    "from dash import Dash, dcc, html, Input, Output, callback\n",
    "import plotly.express as px\n",
    "\n",
    "import pandas as pd\n",
    "\n",
    "df = pd.read_csv('./data/affected_country.csv')\n",
    "\n",
    "app = Dash(__name__)\n",
    "print(df.info())\n",
    "\n",
    "app.layout = html.Div([\n",
    "    dcc.Graph(id='graph-with-slider'),\n",
    "    dcc.Slider(\n",
    "        df['year'].min(),\n",
    "        df['year'].max(),\n",
    "        step=None,\n",
    "        value=df['year'].min(),\n",
    "        marks={str(year): str(year) for year in df['year'].unique()},\n",
    "        id='year-slider'\n",
    "    )\n",
    "])\n",
    "\n",
    "\n",
    "@callback(\n",
    "    Output('graph-with-slider', 'figure'),\n",
    "    Input('year-slider', 'value'))\n",
    "def update_figure(selected_year):\n",
    "    filtered_df = df[df.year == selected_year]\n",
    "\n",
    "    fig = px.scatter(filtered_df, x=\"month\", y=\"percent_affected\",\n",
    "                     size=\"affected\", color=\"continent\", hover_name=\"country\",\n",
    "                     log_x=True, size_max=55)\n",
    "\n",
    "    fig.update_layout(transition_duration=500)\n",
    "\n",
    "    return fig\n",
    "\n",
    "\n",
    "if __name__ == '__main__':\n",
    "    app.run(debug=True,port=8055)"
   ]
  },
  {
   "cell_type": "code",
   "execution_count": null,
   "id": "2b28a01d-b1f9-4265-b209-50224a4e6a99",
   "metadata": {},
   "outputs": [],
   "source": []
  },
  {
   "cell_type": "code",
   "execution_count": null,
   "id": "af3843b7-3897-4433-b038-0ab4a2e8120d",
   "metadata": {},
   "outputs": [],
   "source": []
  },
  {
   "cell_type": "code",
   "execution_count": null,
   "id": "b5dd268c-5221-4ebf-9769-c2ab1010b000",
   "metadata": {},
   "outputs": [],
   "source": []
  }
 ],
 "metadata": {
  "kernelspec": {
   "display_name": "Python 3 (ipykernel)",
   "language": "python",
   "name": "python3"
  },
  "language_info": {
   "codemirror_mode": {
    "name": "ipython",
    "version": 3
   },
   "file_extension": ".py",
   "mimetype": "text/x-python",
   "name": "python",
   "nbconvert_exporter": "python",
   "pygments_lexer": "ipython3",
   "version": "3.12.2"
  }
 },
 "nbformat": 4,
 "nbformat_minor": 5
}
